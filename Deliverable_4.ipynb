{
  "nbformat": 4,
  "nbformat_minor": 0,
  "metadata": {
    "colab": {
      "provenance": []
    },
    "kernelspec": {
      "name": "python3",
      "display_name": "Python 3"
    },
    "language_info": {
      "name": "python"
    }
  },
  "cells": [
    {
      "cell_type": "code",
      "execution_count": 1,
      "metadata": {
        "id": "HQNqnQFvRDcg"
      },
      "outputs": [],
      "source": [
        "#Numpy is imported\n",
        "import numpy as np"
      ]
    },
    {
      "cell_type": "code",
      "source": [
        "#List limit is created for numbers between 10 and 50\n",
        "def populate_list(length):\n",
        "    return [np.random.randint(10, 51) for _ in range(length)]"
      ],
      "metadata": {
        "id": "xcENLFroSJFP"
      },
      "execution_count": 2,
      "outputs": []
    },
    {
      "cell_type": "code",
      "source": [
        "#Sum of the list created is found\n",
        "def sum_list_elements(lst):\n",
        "    return sum(lst)"
      ],
      "metadata": {
        "id": "DodWeq-bSL2Q"
      },
      "execution_count": 3,
      "outputs": []
    },
    {
      "cell_type": "code",
      "source": [
        "#Input for user and returns an error if input is outside of asked range\n",
        "def get_user_input():\n",
        "    while True:\n",
        "        try:\n",
        "            user_input = int(input(\"Enter an integer between 5 and 15: \"))\n",
        "            if 5 <= user_input <= 15:\n",
        "                return user_input\n",
        "            else:\n",
        "                print(\"Invalid input. Please enter an integer between 5 and 15.\")\n",
        "        except ValueError:\n",
        "            print(\"Invalid input. Please enter an integer between 5 and 15.\")"
      ],
      "metadata": {
        "id": "YVpwz6Q5SNiI"
      },
      "execution_count": 4,
      "outputs": []
    },
    {
      "cell_type": "code",
      "source": [
        "#Loop is done and output is created in the asked format. Question is asked to try again\n",
        "def main():\n",
        "    while True:\n",
        "        user_input = get_user_input()\n",
        "        random_list = populate_list(user_input)\n",
        "\n",
        "        print(\"The elements of the array are:\", *random_list)\n",
        "\n",
        "        list_sum = sum_list_elements(random_list)\n",
        "        print(\"The sum is:\", list_sum)\n",
        "\n",
        "        repeat = input(\"Try again? (y/n): \")\n",
        "        if repeat.lower() != 'y':\n",
        "            break\n"
      ],
      "metadata": {
        "id": "Xa-VCrrHSQD0"
      },
      "execution_count": 7,
      "outputs": []
    },
    {
      "cell_type": "code",
      "source": [
        "#If statement is made and scripted is called\n",
        "if __name__ == \"__main__\":\n",
        "    main()"
      ],
      "metadata": {
        "colab": {
          "base_uri": "https://localhost:8080/"
        },
        "id": "185v15JGSUDR",
        "outputId": "e19eccb8-5a4e-4afb-f697-1a601f9a9f29"
      },
      "execution_count": 10,
      "outputs": [
        {
          "name": "stdout",
          "output_type": "stream",
          "text": [
            "Enter an integer between 5 and 15: 2\n",
            "Invalid input. Please enter an integer between 5 and 15.\n",
            "Enter an integer between 5 and 15: 50\n",
            "Invalid input. Please enter an integer between 5 and 15.\n",
            "Enter an integer between 5 and 15: 9\n",
            "The elements of the array are: 45 15 37 10 38 34 30 26 47\n",
            "The sum is: 282\n",
            "Repeat? (y/n): y\n",
            "Enter an integer between 5 and 15: 12\n",
            "The elements of the array are: 20 44 18 44 25 12 29 10 44 40 29 26\n",
            "The sum is: 341\n",
            "Repeat? (y/n): n\n"
          ]
        }
      ]
    }
  ]
}